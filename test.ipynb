{
 "cells": [
  {
   "cell_type": "markdown",
   "id": "e9a90d88",
   "metadata": {},
   "source": [
    "- The above data is data for prebid auctions. There are bidders who receive requests for placing ads, they respond to these requests with a bid and the highest bid wins the auction. Analyse the dataset to answer which bidder has the highest win rate (wins / total_bid). "
   ]
  },
  {
   "cell_type": "code",
   "execution_count": 68,
   "id": "7a14cc3b",
   "metadata": {},
   "outputs": [],
   "source": [
    "import pandas as pd \n",
    "pd.set_option('display.max_columns',None)\n",
    "import os"
   ]
  },
  {
   "cell_type": "code",
   "execution_count": 69,
   "id": "a3534064",
   "metadata": {},
   "outputs": [],
   "source": [
    "df = pd.read_csv(os.path.join('analysis_id(in).csv'))"
   ]
  },
  {
   "cell_type": "code",
   "execution_count": 70,
   "id": "846e6b20",
   "metadata": {},
   "outputs": [
    {
     "data": {
      "application/vnd.microsoft.datawrangler.viewer.v0+json": {
       "columns": [
        {
         "name": "index",
         "rawType": "int64",
         "type": "integer"
        },
        {
         "name": "Unnamed: 0",
         "rawType": "int64",
         "type": "integer"
        },
        {
         "name": "date_hour",
         "rawType": "object",
         "type": "string"
        },
        {
         "name": "client",
         "rawType": "object",
         "type": "string"
        },
        {
         "name": "device_type",
         "rawType": "object",
         "type": "string"
        },
        {
         "name": "time_zone",
         "rawType": "object",
         "type": "string"
        },
        {
         "name": "os_name",
         "rawType": "object",
         "type": "string"
        },
        {
         "name": "browser_name",
         "rawType": "object",
         "type": "string"
        },
        {
         "name": "ad_unit",
         "rawType": "object",
         "type": "string"
        },
        {
         "name": "size",
         "rawType": "object",
         "type": "string"
        },
        {
         "name": "bidder",
         "rawType": "object",
         "type": "string"
        },
        {
         "name": "bid_range",
         "rawType": "object",
         "type": "string"
        },
        {
         "name": "media_type",
         "rawType": "object",
         "type": "string"
        },
        {
         "name": "request_count",
         "rawType": "int64",
         "type": "integer"
        },
        {
         "name": "response_count",
         "rawType": "int64",
         "type": "integer"
        },
        {
         "name": "prebid_win_count",
         "rawType": "float64",
         "type": "float"
        },
        {
         "name": "win_count",
         "rawType": "float64",
         "type": "float"
        },
        {
         "name": "sum_bid",
         "rawType": "float64",
         "type": "float"
        },
        {
         "name": "sum_time_to_respond",
         "rawType": "float64",
         "type": "float"
        },
        {
         "name": "median",
         "rawType": "float64",
         "type": "float"
        },
        {
         "name": "min_bid",
         "rawType": "float64",
         "type": "float"
        },
        {
         "name": "max_bid",
         "rawType": "float64",
         "type": "float"
        },
        {
         "name": "avg_bid",
         "rawType": "float64",
         "type": "float"
        },
        {
         "name": "sum_2nd_highest_bid",
         "rawType": "float64",
         "type": "float"
        },
        {
         "name": "sum_prebid_winning_bid",
         "rawType": "float64",
         "type": "float"
        },
        {
         "name": "sum_winning_bid",
         "rawType": "float64",
         "type": "float"
        },
        {
         "name": "sum_nobid",
         "rawType": "float64",
         "type": "float"
        },
        {
         "name": "sum_timeout",
         "rawType": "float64",
         "type": "float"
        }
       ],
       "ref": "9711f041-72af-4f7c-ac9e-9709690f4275",
       "rows": [
        [
         "0",
         "0",
         "2021-04-11T01:00:00",
         "asc126828",
         "Desktop",
         "America/Chicago",
         "Linux",
         "Chrome-85.04183133",
         "div-gpt-ad-BT-D-Footers",
         "728x90",
         "onemobile",
         "0.5-0.6",
         "display",
         "4",
         "4",
         "1.0",
         null,
         "2.3408",
         "6614.0",
         null,
         "0.5852",
         "0.5852",
         "0.5852",
         "0.5852",
         "0.5852",
         null,
         null,
         null
        ],
        [
         "1",
         "1",
         "2021-04-11T01:00:00",
         "asc126828",
         "Desktop",
         "America/Chicago",
         "Linux",
         "Chrome-85.04183133",
         "div-gpt-ad-BT-D-Footers",
         "728x90",
         "rhythmone",
         "0.3-0.4",
         "display",
         "3",
         "3",
         null,
         null,
         "1.0323",
         "5171.0",
         null,
         "0.33945",
         "0.34875",
         "0.3441",
         null,
         null,
         null,
         null,
         null
        ],
        [
         "2",
         "2",
         "2021-04-11T01:00:00",
         "asc126828",
         "Desktop",
         "America/Chicago",
         "Linux",
         "Chrome-85.04183133",
         "div-gpt-ad-BT-D-InLine-1",
         "300x250",
         "undertone",
         "0.9-1",
         "display",
         "1",
         "1",
         null,
         null,
         "0.96",
         "1523.0",
         null,
         "0.96",
         "0.96",
         "0.96",
         null,
         null,
         null,
         null,
         null
        ],
        [
         "3",
         "3",
         "2021-04-11T01:00:00",
         "asc126828",
         "Desktop",
         "America/Chicago",
         "Linux",
         "Chrome-85.04183133",
         "div-gpt-ad-BT-D-O-300x250-1",
         "300x250",
         " ",
         " ",
         "display",
         "43",
         "0",
         null,
         null,
         null,
         null,
         null,
         null,
         null,
         null,
         null,
         null,
         null,
         null,
         null
        ],
        [
         "4",
         "4",
         "2021-04-11T01:00:00",
         "asc126828",
         "Desktop",
         "America/Chicago",
         "Linux",
         "Chrome-85.04183133",
         "div-gpt-ad-BT-D-O-300x250-1",
         "300x250",
         "rhythmone",
         "0.3-0.4",
         "display",
         "2",
         "2",
         null,
         null,
         "0.69285",
         "3570.0",
         "0.34875",
         "0.3441",
         "0.34875",
         "0.346425",
         null,
         null,
         null,
         null,
         null
        ]
       ],
       "shape": {
        "columns": 27,
        "rows": 5
       }
      },
      "text/html": [
       "<div>\n",
       "<style scoped>\n",
       "    .dataframe tbody tr th:only-of-type {\n",
       "        vertical-align: middle;\n",
       "    }\n",
       "\n",
       "    .dataframe tbody tr th {\n",
       "        vertical-align: top;\n",
       "    }\n",
       "\n",
       "    .dataframe thead th {\n",
       "        text-align: right;\n",
       "    }\n",
       "</style>\n",
       "<table border=\"1\" class=\"dataframe\">\n",
       "  <thead>\n",
       "    <tr style=\"text-align: right;\">\n",
       "      <th></th>\n",
       "      <th>Unnamed: 0</th>\n",
       "      <th>date_hour</th>\n",
       "      <th>client</th>\n",
       "      <th>device_type</th>\n",
       "      <th>time_zone</th>\n",
       "      <th>os_name</th>\n",
       "      <th>browser_name</th>\n",
       "      <th>ad_unit</th>\n",
       "      <th>size</th>\n",
       "      <th>bidder</th>\n",
       "      <th>bid_range</th>\n",
       "      <th>media_type</th>\n",
       "      <th>request_count</th>\n",
       "      <th>response_count</th>\n",
       "      <th>prebid_win_count</th>\n",
       "      <th>win_count</th>\n",
       "      <th>sum_bid</th>\n",
       "      <th>sum_time_to_respond</th>\n",
       "      <th>median</th>\n",
       "      <th>min_bid</th>\n",
       "      <th>max_bid</th>\n",
       "      <th>avg_bid</th>\n",
       "      <th>sum_2nd_highest_bid</th>\n",
       "      <th>sum_prebid_winning_bid</th>\n",
       "      <th>sum_winning_bid</th>\n",
       "      <th>sum_nobid</th>\n",
       "      <th>sum_timeout</th>\n",
       "    </tr>\n",
       "  </thead>\n",
       "  <tbody>\n",
       "    <tr>\n",
       "      <th>0</th>\n",
       "      <td>0</td>\n",
       "      <td>2021-04-11T01:00:00</td>\n",
       "      <td>asc126828</td>\n",
       "      <td>Desktop</td>\n",
       "      <td>America/Chicago</td>\n",
       "      <td>Linux</td>\n",
       "      <td>Chrome-85.04183133</td>\n",
       "      <td>div-gpt-ad-BT-D-Footers</td>\n",
       "      <td>728x90</td>\n",
       "      <td>onemobile</td>\n",
       "      <td>0.5-0.6</td>\n",
       "      <td>display</td>\n",
       "      <td>4</td>\n",
       "      <td>4</td>\n",
       "      <td>1.0</td>\n",
       "      <td>NaN</td>\n",
       "      <td>2.34080</td>\n",
       "      <td>6614.0</td>\n",
       "      <td>NaN</td>\n",
       "      <td>0.58520</td>\n",
       "      <td>0.58520</td>\n",
       "      <td>0.585200</td>\n",
       "      <td>0.5852</td>\n",
       "      <td>0.5852</td>\n",
       "      <td>NaN</td>\n",
       "      <td>NaN</td>\n",
       "      <td>NaN</td>\n",
       "    </tr>\n",
       "    <tr>\n",
       "      <th>1</th>\n",
       "      <td>1</td>\n",
       "      <td>2021-04-11T01:00:00</td>\n",
       "      <td>asc126828</td>\n",
       "      <td>Desktop</td>\n",
       "      <td>America/Chicago</td>\n",
       "      <td>Linux</td>\n",
       "      <td>Chrome-85.04183133</td>\n",
       "      <td>div-gpt-ad-BT-D-Footers</td>\n",
       "      <td>728x90</td>\n",
       "      <td>rhythmone</td>\n",
       "      <td>0.3-0.4</td>\n",
       "      <td>display</td>\n",
       "      <td>3</td>\n",
       "      <td>3</td>\n",
       "      <td>NaN</td>\n",
       "      <td>NaN</td>\n",
       "      <td>1.03230</td>\n",
       "      <td>5171.0</td>\n",
       "      <td>NaN</td>\n",
       "      <td>0.33945</td>\n",
       "      <td>0.34875</td>\n",
       "      <td>0.344100</td>\n",
       "      <td>NaN</td>\n",
       "      <td>NaN</td>\n",
       "      <td>NaN</td>\n",
       "      <td>NaN</td>\n",
       "      <td>NaN</td>\n",
       "    </tr>\n",
       "    <tr>\n",
       "      <th>2</th>\n",
       "      <td>2</td>\n",
       "      <td>2021-04-11T01:00:00</td>\n",
       "      <td>asc126828</td>\n",
       "      <td>Desktop</td>\n",
       "      <td>America/Chicago</td>\n",
       "      <td>Linux</td>\n",
       "      <td>Chrome-85.04183133</td>\n",
       "      <td>div-gpt-ad-BT-D-InLine-1</td>\n",
       "      <td>300x250</td>\n",
       "      <td>undertone</td>\n",
       "      <td>0.9-1</td>\n",
       "      <td>display</td>\n",
       "      <td>1</td>\n",
       "      <td>1</td>\n",
       "      <td>NaN</td>\n",
       "      <td>NaN</td>\n",
       "      <td>0.96000</td>\n",
       "      <td>1523.0</td>\n",
       "      <td>NaN</td>\n",
       "      <td>0.96000</td>\n",
       "      <td>0.96000</td>\n",
       "      <td>0.960000</td>\n",
       "      <td>NaN</td>\n",
       "      <td>NaN</td>\n",
       "      <td>NaN</td>\n",
       "      <td>NaN</td>\n",
       "      <td>NaN</td>\n",
       "    </tr>\n",
       "    <tr>\n",
       "      <th>3</th>\n",
       "      <td>3</td>\n",
       "      <td>2021-04-11T01:00:00</td>\n",
       "      <td>asc126828</td>\n",
       "      <td>Desktop</td>\n",
       "      <td>America/Chicago</td>\n",
       "      <td>Linux</td>\n",
       "      <td>Chrome-85.04183133</td>\n",
       "      <td>div-gpt-ad-BT-D-O-300x250-1</td>\n",
       "      <td>300x250</td>\n",
       "      <td></td>\n",
       "      <td></td>\n",
       "      <td>display</td>\n",
       "      <td>43</td>\n",
       "      <td>0</td>\n",
       "      <td>NaN</td>\n",
       "      <td>NaN</td>\n",
       "      <td>NaN</td>\n",
       "      <td>NaN</td>\n",
       "      <td>NaN</td>\n",
       "      <td>NaN</td>\n",
       "      <td>NaN</td>\n",
       "      <td>NaN</td>\n",
       "      <td>NaN</td>\n",
       "      <td>NaN</td>\n",
       "      <td>NaN</td>\n",
       "      <td>NaN</td>\n",
       "      <td>NaN</td>\n",
       "    </tr>\n",
       "    <tr>\n",
       "      <th>4</th>\n",
       "      <td>4</td>\n",
       "      <td>2021-04-11T01:00:00</td>\n",
       "      <td>asc126828</td>\n",
       "      <td>Desktop</td>\n",
       "      <td>America/Chicago</td>\n",
       "      <td>Linux</td>\n",
       "      <td>Chrome-85.04183133</td>\n",
       "      <td>div-gpt-ad-BT-D-O-300x250-1</td>\n",
       "      <td>300x250</td>\n",
       "      <td>rhythmone</td>\n",
       "      <td>0.3-0.4</td>\n",
       "      <td>display</td>\n",
       "      <td>2</td>\n",
       "      <td>2</td>\n",
       "      <td>NaN</td>\n",
       "      <td>NaN</td>\n",
       "      <td>0.69285</td>\n",
       "      <td>3570.0</td>\n",
       "      <td>0.34875</td>\n",
       "      <td>0.34410</td>\n",
       "      <td>0.34875</td>\n",
       "      <td>0.346425</td>\n",
       "      <td>NaN</td>\n",
       "      <td>NaN</td>\n",
       "      <td>NaN</td>\n",
       "      <td>NaN</td>\n",
       "      <td>NaN</td>\n",
       "    </tr>\n",
       "  </tbody>\n",
       "</table>\n",
       "</div>"
      ],
      "text/plain": [
       "   Unnamed: 0            date_hour     client device_type        time_zone  \\\n",
       "0           0  2021-04-11T01:00:00  asc126828     Desktop  America/Chicago   \n",
       "1           1  2021-04-11T01:00:00  asc126828     Desktop  America/Chicago   \n",
       "2           2  2021-04-11T01:00:00  asc126828     Desktop  America/Chicago   \n",
       "3           3  2021-04-11T01:00:00  asc126828     Desktop  America/Chicago   \n",
       "4           4  2021-04-11T01:00:00  asc126828     Desktop  America/Chicago   \n",
       "\n",
       "  os_name        browser_name                      ad_unit     size  \\\n",
       "0   Linux  Chrome-85.04183133      div-gpt-ad-BT-D-Footers   728x90   \n",
       "1   Linux  Chrome-85.04183133      div-gpt-ad-BT-D-Footers   728x90   \n",
       "2   Linux  Chrome-85.04183133     div-gpt-ad-BT-D-InLine-1  300x250   \n",
       "3   Linux  Chrome-85.04183133  div-gpt-ad-BT-D-O-300x250-1  300x250   \n",
       "4   Linux  Chrome-85.04183133  div-gpt-ad-BT-D-O-300x250-1  300x250   \n",
       "\n",
       "      bidder bid_range media_type  request_count  response_count  \\\n",
       "0  onemobile   0.5-0.6    display              4               4   \n",
       "1  rhythmone   0.3-0.4    display              3               3   \n",
       "2  undertone     0.9-1    display              1               1   \n",
       "3                         display             43               0   \n",
       "4  rhythmone   0.3-0.4    display              2               2   \n",
       "\n",
       "   prebid_win_count  win_count  sum_bid  sum_time_to_respond   median  \\\n",
       "0               1.0        NaN  2.34080               6614.0      NaN   \n",
       "1               NaN        NaN  1.03230               5171.0      NaN   \n",
       "2               NaN        NaN  0.96000               1523.0      NaN   \n",
       "3               NaN        NaN      NaN                  NaN      NaN   \n",
       "4               NaN        NaN  0.69285               3570.0  0.34875   \n",
       "\n",
       "   min_bid  max_bid   avg_bid  sum_2nd_highest_bid  sum_prebid_winning_bid  \\\n",
       "0  0.58520  0.58520  0.585200               0.5852                  0.5852   \n",
       "1  0.33945  0.34875  0.344100                  NaN                     NaN   \n",
       "2  0.96000  0.96000  0.960000                  NaN                     NaN   \n",
       "3      NaN      NaN       NaN                  NaN                     NaN   \n",
       "4  0.34410  0.34875  0.346425                  NaN                     NaN   \n",
       "\n",
       "   sum_winning_bid  sum_nobid  sum_timeout  \n",
       "0              NaN        NaN          NaN  \n",
       "1              NaN        NaN          NaN  \n",
       "2              NaN        NaN          NaN  \n",
       "3              NaN        NaN          NaN  \n",
       "4              NaN        NaN          NaN  "
      ]
     },
     "execution_count": 70,
     "metadata": {},
     "output_type": "execute_result"
    }
   ],
   "source": [
    "df.head()"
   ]
  },
  {
   "cell_type": "code",
   "execution_count": 86,
   "id": "16617885",
   "metadata": {},
   "outputs": [
    {
     "data": {
      "application/vnd.microsoft.datawrangler.viewer.v0+json": {
       "columns": [
        {
         "name": "index",
         "rawType": "object",
         "type": "string"
        },
        {
         "name": "0",
         "rawType": "int64",
         "type": "integer"
        }
       ],
       "ref": "a060e296-a9b5-4590-a5ea-d2818014eb50",
       "rows": [
        [
         "Unnamed: 0",
         "0"
        ],
        [
         "date_hour",
         "0"
        ],
        [
         "client",
         "0"
        ],
        [
         "device_type",
         "0"
        ],
        [
         "time_zone",
         "0"
        ],
        [
         "os_name",
         "0"
        ],
        [
         "browser_name",
         "0"
        ],
        [
         "ad_unit",
         "0"
        ],
        [
         "size",
         "0"
        ],
        [
         "bidder",
         "0"
        ],
        [
         "bid_range",
         "0"
        ],
        [
         "media_type",
         "0"
        ],
        [
         "request_count",
         "0"
        ],
        [
         "response_count",
         "0"
        ],
        [
         "prebid_win_count",
         "3833"
        ],
        [
         "win_count",
         "4814"
        ],
        [
         "sum_bid",
         "1210"
        ],
        [
         "sum_time_to_respond",
         "1210"
        ],
        [
         "median",
         "3240"
        ],
        [
         "min_bid",
         "1210"
        ],
        [
         "max_bid",
         "1210"
        ],
        [
         "avg_bid",
         "1210"
        ],
        [
         "sum_2nd_highest_bid",
         "4266"
        ],
        [
         "sum_prebid_winning_bid",
         "3833"
        ],
        [
         "sum_winning_bid",
         "4814"
        ],
        [
         "sum_nobid",
         "5000"
        ],
        [
         "sum_timeout",
         "5000"
        ],
        [
         "target",
         "0"
        ]
       ],
       "shape": {
        "columns": 1,
        "rows": 28
       }
      },
      "text/plain": [
       "Unnamed: 0                   0\n",
       "date_hour                    0\n",
       "client                       0\n",
       "device_type                  0\n",
       "time_zone                    0\n",
       "os_name                      0\n",
       "browser_name                 0\n",
       "ad_unit                      0\n",
       "size                         0\n",
       "bidder                       0\n",
       "bid_range                    0\n",
       "media_type                   0\n",
       "request_count                0\n",
       "response_count               0\n",
       "prebid_win_count          3833\n",
       "win_count                 4814\n",
       "sum_bid                   1210\n",
       "sum_time_to_respond       1210\n",
       "median                    3240\n",
       "min_bid                   1210\n",
       "max_bid                   1210\n",
       "avg_bid                   1210\n",
       "sum_2nd_highest_bid       4266\n",
       "sum_prebid_winning_bid    3833\n",
       "sum_winning_bid           4814\n",
       "sum_nobid                 5000\n",
       "sum_timeout               5000\n",
       "target                       0\n",
       "dtype: int64"
      ]
     },
     "execution_count": 86,
     "metadata": {},
     "output_type": "execute_result"
    }
   ],
   "source": [
    "df.isnull().sum()"
   ]
  },
  {
   "cell_type": "code",
   "execution_count": 72,
   "id": "3df04e97",
   "metadata": {},
   "outputs": [
    {
     "data": {
      "text/plain": [
       "Index(['Unnamed: 0', 'date_hour', 'client', 'device_type', 'time_zone',\n",
       "       'os_name', 'browser_name', 'ad_unit', 'size', 'bidder', 'bid_range',\n",
       "       'media_type', 'request_count', 'response_count', 'prebid_win_count',\n",
       "       'win_count', 'sum_bid', 'sum_time_to_respond', 'median', 'min_bid',\n",
       "       'max_bid', 'avg_bid', 'sum_2nd_highest_bid', 'sum_prebid_winning_bid',\n",
       "       'sum_winning_bid', 'sum_nobid', 'sum_timeout'],\n",
       "      dtype='object')"
      ]
     },
     "execution_count": 72,
     "metadata": {},
     "output_type": "execute_result"
    }
   ],
   "source": [
    "df.columns"
   ]
  },
  {
   "cell_type": "code",
   "execution_count": 73,
   "id": "b101c9be",
   "metadata": {},
   "outputs": [
    {
     "data": {
      "application/vnd.microsoft.datawrangler.viewer.v0+json": {
       "columns": [
        {
         "name": "bidder",
         "rawType": "object",
         "type": "string"
        },
        {
         "name": "proportion",
         "rawType": "float64",
         "type": "float"
        }
       ],
       "ref": "6365ec28-327c-402f-a52f-37073ad7fd7e",
       "rows": [
        [
         " ",
         "0.242"
        ],
        [
         "ix",
         "0.0928"
        ],
        [
         "onemobile",
         "0.0814"
        ],
        [
         "medianet",
         "0.0768"
        ],
        [
         "criteo",
         "0.0612"
        ],
        [
         "pubmatic",
         "0.0596"
        ],
        [
         "rhythmone",
         "0.0492"
        ],
        [
         "33across",
         "0.048"
        ],
        [
         "triplelift",
         "0.0464"
        ],
        [
         "openx",
         "0.0394"
        ],
        [
         "appnexus",
         "0.0394"
        ],
        [
         "rubicon",
         "0.0356"
        ],
        [
         "emx_digital",
         "0.0338"
        ],
        [
         "sharethrough",
         "0.0278"
        ],
        [
         "pulsepoint",
         "0.0268"
        ],
        [
         "sovrn",
         "0.0204"
        ],
        [
         "undertone",
         "0.0098"
        ],
        [
         "teads",
         "0.0096"
        ]
       ],
       "shape": {
        "columns": 1,
        "rows": 18
       }
      },
      "text/plain": [
       "bidder\n",
       "                0.2420\n",
       "ix              0.0928\n",
       "onemobile       0.0814\n",
       "medianet        0.0768\n",
       "criteo          0.0612\n",
       "pubmatic        0.0596\n",
       "rhythmone       0.0492\n",
       "33across        0.0480\n",
       "triplelift      0.0464\n",
       "openx           0.0394\n",
       "appnexus        0.0394\n",
       "rubicon         0.0356\n",
       "emx_digital     0.0338\n",
       "sharethrough    0.0278\n",
       "pulsepoint      0.0268\n",
       "sovrn           0.0204\n",
       "undertone       0.0098\n",
       "teads           0.0096\n",
       "Name: proportion, dtype: float64"
      ]
     },
     "execution_count": 73,
     "metadata": {},
     "output_type": "execute_result"
    }
   ],
   "source": [
    "df['bidder'].value_counts(normalize=True)"
   ]
  },
  {
   "cell_type": "code",
   "execution_count": 74,
   "id": "46c56c29",
   "metadata": {},
   "outputs": [
    {
     "data": {
      "application/vnd.microsoft.datawrangler.viewer.v0+json": {
       "columns": [
        {
         "name": "index",
         "rawType": "int64",
         "type": "integer"
        },
        {
         "name": "bidder",
         "rawType": "object",
         "type": "string"
        },
        {
         "name": "request_count",
         "rawType": "int64",
         "type": "integer"
        },
        {
         "name": "response_count",
         "rawType": "int64",
         "type": "integer"
        },
        {
         "name": "prebid_win_count",
         "rawType": "float64",
         "type": "float"
        }
       ],
       "ref": "01eaa441-8c5e-4d28-b40d-f50ad07863b3",
       "rows": [
        [
         "0",
         "onemobile",
         "4",
         "4",
         "1.0"
        ],
        [
         "1",
         "rhythmone",
         "3",
         "3",
         null
        ],
        [
         "2",
         "undertone",
         "1",
         "1",
         null
        ],
        [
         "3",
         " ",
         "43",
         "0",
         null
        ],
        [
         "4",
         "rhythmone",
         "2",
         "2",
         null
        ]
       ],
       "shape": {
        "columns": 4,
        "rows": 5
       }
      },
      "text/html": [
       "<div>\n",
       "<style scoped>\n",
       "    .dataframe tbody tr th:only-of-type {\n",
       "        vertical-align: middle;\n",
       "    }\n",
       "\n",
       "    .dataframe tbody tr th {\n",
       "        vertical-align: top;\n",
       "    }\n",
       "\n",
       "    .dataframe thead th {\n",
       "        text-align: right;\n",
       "    }\n",
       "</style>\n",
       "<table border=\"1\" class=\"dataframe\">\n",
       "  <thead>\n",
       "    <tr style=\"text-align: right;\">\n",
       "      <th></th>\n",
       "      <th>bidder</th>\n",
       "      <th>request_count</th>\n",
       "      <th>response_count</th>\n",
       "      <th>prebid_win_count</th>\n",
       "    </tr>\n",
       "  </thead>\n",
       "  <tbody>\n",
       "    <tr>\n",
       "      <th>0</th>\n",
       "      <td>onemobile</td>\n",
       "      <td>4</td>\n",
       "      <td>4</td>\n",
       "      <td>1.0</td>\n",
       "    </tr>\n",
       "    <tr>\n",
       "      <th>1</th>\n",
       "      <td>rhythmone</td>\n",
       "      <td>3</td>\n",
       "      <td>3</td>\n",
       "      <td>NaN</td>\n",
       "    </tr>\n",
       "    <tr>\n",
       "      <th>2</th>\n",
       "      <td>undertone</td>\n",
       "      <td>1</td>\n",
       "      <td>1</td>\n",
       "      <td>NaN</td>\n",
       "    </tr>\n",
       "    <tr>\n",
       "      <th>3</th>\n",
       "      <td></td>\n",
       "      <td>43</td>\n",
       "      <td>0</td>\n",
       "      <td>NaN</td>\n",
       "    </tr>\n",
       "    <tr>\n",
       "      <th>4</th>\n",
       "      <td>rhythmone</td>\n",
       "      <td>2</td>\n",
       "      <td>2</td>\n",
       "      <td>NaN</td>\n",
       "    </tr>\n",
       "  </tbody>\n",
       "</table>\n",
       "</div>"
      ],
      "text/plain": [
       "      bidder  request_count  response_count  prebid_win_count\n",
       "0  onemobile              4               4               1.0\n",
       "1  rhythmone              3               3               NaN\n",
       "2  undertone              1               1               NaN\n",
       "3                        43               0               NaN\n",
       "4  rhythmone              2               2               NaN"
      ]
     },
     "execution_count": 74,
     "metadata": {},
     "output_type": "execute_result"
    }
   ],
   "source": [
    "df[['bidder','request_count','response_count','prebid_win_count']].head()"
   ]
  },
  {
   "cell_type": "code",
   "execution_count": 75,
   "id": "de20654b",
   "metadata": {},
   "outputs": [],
   "source": [
    "\n",
    "df.loc[df[df['bidder'] == \" \"].index,'bidder'] = \"unknown\""
   ]
  },
  {
   "cell_type": "code",
   "execution_count": 76,
   "id": "3d50aa56",
   "metadata": {},
   "outputs": [
    {
     "data": {
      "application/vnd.microsoft.datawrangler.viewer.v0+json": {
       "columns": [
        {
         "name": "bidder",
         "rawType": "object",
         "type": "string"
        },
        {
         "name": "wins",
         "rawType": "float64",
         "type": "float"
        },
        {
         "name": "total_bid",
         "rawType": "int64",
         "type": "integer"
        },
        {
         "name": "win_rate",
         "rawType": "float64",
         "type": "float"
        }
       ],
       "ref": "f0d5ccb1-2b1d-49b6-af51-863a7fa2875f",
       "rows": [
        [
         "undertone",
         "52.0",
         "104",
         "50.0"
        ],
        [
         "teads",
         "323.0",
         "700",
         "46.14285714285714"
        ]
       ],
       "shape": {
        "columns": 3,
        "rows": 2
       }
      },
      "text/html": [
       "<div>\n",
       "<style scoped>\n",
       "    .dataframe tbody tr th:only-of-type {\n",
       "        vertical-align: middle;\n",
       "    }\n",
       "\n",
       "    .dataframe tbody tr th {\n",
       "        vertical-align: top;\n",
       "    }\n",
       "\n",
       "    .dataframe thead th {\n",
       "        text-align: right;\n",
       "    }\n",
       "</style>\n",
       "<table border=\"1\" class=\"dataframe\">\n",
       "  <thead>\n",
       "    <tr style=\"text-align: right;\">\n",
       "      <th></th>\n",
       "      <th>wins</th>\n",
       "      <th>total_bid</th>\n",
       "      <th>win_rate</th>\n",
       "    </tr>\n",
       "    <tr>\n",
       "      <th>bidder</th>\n",
       "      <th></th>\n",
       "      <th></th>\n",
       "      <th></th>\n",
       "    </tr>\n",
       "  </thead>\n",
       "  <tbody>\n",
       "    <tr>\n",
       "      <th>undertone</th>\n",
       "      <td>52.0</td>\n",
       "      <td>104</td>\n",
       "      <td>50.000000</td>\n",
       "    </tr>\n",
       "    <tr>\n",
       "      <th>teads</th>\n",
       "      <td>323.0</td>\n",
       "      <td>700</td>\n",
       "      <td>46.142857</td>\n",
       "    </tr>\n",
       "  </tbody>\n",
       "</table>\n",
       "</div>"
      ],
      "text/plain": [
       "            wins  total_bid   win_rate\n",
       "bidder                                \n",
       "undertone   52.0        104  50.000000\n",
       "teads      323.0        700  46.142857"
      ]
     },
     "execution_count": 76,
     "metadata": {},
     "output_type": "execute_result"
    }
   ],
   "source": [
    "data = df.groupby(['bidder']).agg({\"prebid_win_count\":\"sum\",\n",
    "                                   \"response_count\":\"sum\"}).rename(columns={\"prebid_win_count\":\"wins\",\n",
    "                                                                            \"response_count\":\"total_bid\"})\n",
    "data['win_rate'] = (data['wins']/data['total_bid'])*100\n",
    "data.sort_values(by='win_rate',ascending=False).head(2)"
   ]
  },
  {
   "cell_type": "markdown",
   "id": "edb3f8e3",
   "metadata": {},
   "source": [
    "- Part 1: Describe how you would build a logistic regression model to predict the probability of a bid winning (win) based on the other columns. What features would you select and why?\n",
    "- Part 2: Based on the following results from a logistic regression model  trained on the dataset, interpret the coefficients:\n",
    "bid_amount: Coefficient = 0.8\n",
    "time_to_bid: Coefficient = -0.4\n",
    "ad_unit_A: Coefficient = 0.3 (reference category: ad_unit_B)"
   ]
  },
  {
   "cell_type": "code",
   "execution_count": 78,
   "id": "aacb5098",
   "metadata": {},
   "outputs": [
    {
     "data": {
      "application/vnd.microsoft.datawrangler.viewer.v0+json": {
       "columns": [
        {
         "name": "index",
         "rawType": "int64",
         "type": "integer"
        },
        {
         "name": "Unnamed: 0",
         "rawType": "int64",
         "type": "integer"
        },
        {
         "name": "date_hour",
         "rawType": "object",
         "type": "string"
        },
        {
         "name": "client",
         "rawType": "object",
         "type": "string"
        },
        {
         "name": "device_type",
         "rawType": "object",
         "type": "string"
        },
        {
         "name": "time_zone",
         "rawType": "object",
         "type": "string"
        },
        {
         "name": "os_name",
         "rawType": "object",
         "type": "string"
        },
        {
         "name": "browser_name",
         "rawType": "object",
         "type": "string"
        },
        {
         "name": "ad_unit",
         "rawType": "object",
         "type": "string"
        },
        {
         "name": "size",
         "rawType": "object",
         "type": "string"
        },
        {
         "name": "bidder",
         "rawType": "object",
         "type": "string"
        },
        {
         "name": "bid_range",
         "rawType": "object",
         "type": "string"
        },
        {
         "name": "media_type",
         "rawType": "object",
         "type": "string"
        },
        {
         "name": "request_count",
         "rawType": "int64",
         "type": "integer"
        },
        {
         "name": "response_count",
         "rawType": "int64",
         "type": "integer"
        },
        {
         "name": "prebid_win_count",
         "rawType": "float64",
         "type": "float"
        },
        {
         "name": "win_count",
         "rawType": "float64",
         "type": "float"
        },
        {
         "name": "sum_bid",
         "rawType": "float64",
         "type": "float"
        },
        {
         "name": "sum_time_to_respond",
         "rawType": "float64",
         "type": "float"
        },
        {
         "name": "median",
         "rawType": "float64",
         "type": "float"
        },
        {
         "name": "min_bid",
         "rawType": "float64",
         "type": "float"
        },
        {
         "name": "max_bid",
         "rawType": "float64",
         "type": "float"
        },
        {
         "name": "avg_bid",
         "rawType": "float64",
         "type": "float"
        },
        {
         "name": "sum_2nd_highest_bid",
         "rawType": "float64",
         "type": "float"
        },
        {
         "name": "sum_prebid_winning_bid",
         "rawType": "float64",
         "type": "float"
        },
        {
         "name": "sum_winning_bid",
         "rawType": "float64",
         "type": "float"
        },
        {
         "name": "sum_nobid",
         "rawType": "float64",
         "type": "float"
        },
        {
         "name": "sum_timeout",
         "rawType": "float64",
         "type": "float"
        }
       ],
       "ref": "f6b64b14-1268-4035-b29f-a72048c6dc18",
       "rows": [
        [
         "0",
         "0",
         "2021-04-11T01:00:00",
         "asc126828",
         "Desktop",
         "America/Chicago",
         "Linux",
         "Chrome-85.04183133",
         "div-gpt-ad-BT-D-Footers",
         "728x90",
         "onemobile",
         "0.5-0.6",
         "display",
         "4",
         "4",
         "1.0",
         null,
         "2.3408",
         "6614.0",
         null,
         "0.5852",
         "0.5852",
         "0.5852",
         "0.5852",
         "0.5852",
         null,
         null,
         null
        ],
        [
         "1",
         "1",
         "2021-04-11T01:00:00",
         "asc126828",
         "Desktop",
         "America/Chicago",
         "Linux",
         "Chrome-85.04183133",
         "div-gpt-ad-BT-D-Footers",
         "728x90",
         "rhythmone",
         "0.3-0.4",
         "display",
         "3",
         "3",
         null,
         null,
         "1.0323",
         "5171.0",
         null,
         "0.33945",
         "0.34875",
         "0.3441",
         null,
         null,
         null,
         null,
         null
        ],
        [
         "2",
         "2",
         "2021-04-11T01:00:00",
         "asc126828",
         "Desktop",
         "America/Chicago",
         "Linux",
         "Chrome-85.04183133",
         "div-gpt-ad-BT-D-InLine-1",
         "300x250",
         "undertone",
         "0.9-1",
         "display",
         "1",
         "1",
         null,
         null,
         "0.96",
         "1523.0",
         null,
         "0.96",
         "0.96",
         "0.96",
         null,
         null,
         null,
         null,
         null
        ]
       ],
       "shape": {
        "columns": 27,
        "rows": 3
       }
      },
      "text/html": [
       "<div>\n",
       "<style scoped>\n",
       "    .dataframe tbody tr th:only-of-type {\n",
       "        vertical-align: middle;\n",
       "    }\n",
       "\n",
       "    .dataframe tbody tr th {\n",
       "        vertical-align: top;\n",
       "    }\n",
       "\n",
       "    .dataframe thead th {\n",
       "        text-align: right;\n",
       "    }\n",
       "</style>\n",
       "<table border=\"1\" class=\"dataframe\">\n",
       "  <thead>\n",
       "    <tr style=\"text-align: right;\">\n",
       "      <th></th>\n",
       "      <th>Unnamed: 0</th>\n",
       "      <th>date_hour</th>\n",
       "      <th>client</th>\n",
       "      <th>device_type</th>\n",
       "      <th>time_zone</th>\n",
       "      <th>os_name</th>\n",
       "      <th>browser_name</th>\n",
       "      <th>ad_unit</th>\n",
       "      <th>size</th>\n",
       "      <th>bidder</th>\n",
       "      <th>bid_range</th>\n",
       "      <th>media_type</th>\n",
       "      <th>request_count</th>\n",
       "      <th>response_count</th>\n",
       "      <th>prebid_win_count</th>\n",
       "      <th>win_count</th>\n",
       "      <th>sum_bid</th>\n",
       "      <th>sum_time_to_respond</th>\n",
       "      <th>median</th>\n",
       "      <th>min_bid</th>\n",
       "      <th>max_bid</th>\n",
       "      <th>avg_bid</th>\n",
       "      <th>sum_2nd_highest_bid</th>\n",
       "      <th>sum_prebid_winning_bid</th>\n",
       "      <th>sum_winning_bid</th>\n",
       "      <th>sum_nobid</th>\n",
       "      <th>sum_timeout</th>\n",
       "    </tr>\n",
       "  </thead>\n",
       "  <tbody>\n",
       "    <tr>\n",
       "      <th>0</th>\n",
       "      <td>0</td>\n",
       "      <td>2021-04-11T01:00:00</td>\n",
       "      <td>asc126828</td>\n",
       "      <td>Desktop</td>\n",
       "      <td>America/Chicago</td>\n",
       "      <td>Linux</td>\n",
       "      <td>Chrome-85.04183133</td>\n",
       "      <td>div-gpt-ad-BT-D-Footers</td>\n",
       "      <td>728x90</td>\n",
       "      <td>onemobile</td>\n",
       "      <td>0.5-0.6</td>\n",
       "      <td>display</td>\n",
       "      <td>4</td>\n",
       "      <td>4</td>\n",
       "      <td>1.0</td>\n",
       "      <td>NaN</td>\n",
       "      <td>2.3408</td>\n",
       "      <td>6614.0</td>\n",
       "      <td>NaN</td>\n",
       "      <td>0.58520</td>\n",
       "      <td>0.58520</td>\n",
       "      <td>0.5852</td>\n",
       "      <td>0.5852</td>\n",
       "      <td>0.5852</td>\n",
       "      <td>NaN</td>\n",
       "      <td>NaN</td>\n",
       "      <td>NaN</td>\n",
       "    </tr>\n",
       "    <tr>\n",
       "      <th>1</th>\n",
       "      <td>1</td>\n",
       "      <td>2021-04-11T01:00:00</td>\n",
       "      <td>asc126828</td>\n",
       "      <td>Desktop</td>\n",
       "      <td>America/Chicago</td>\n",
       "      <td>Linux</td>\n",
       "      <td>Chrome-85.04183133</td>\n",
       "      <td>div-gpt-ad-BT-D-Footers</td>\n",
       "      <td>728x90</td>\n",
       "      <td>rhythmone</td>\n",
       "      <td>0.3-0.4</td>\n",
       "      <td>display</td>\n",
       "      <td>3</td>\n",
       "      <td>3</td>\n",
       "      <td>NaN</td>\n",
       "      <td>NaN</td>\n",
       "      <td>1.0323</td>\n",
       "      <td>5171.0</td>\n",
       "      <td>NaN</td>\n",
       "      <td>0.33945</td>\n",
       "      <td>0.34875</td>\n",
       "      <td>0.3441</td>\n",
       "      <td>NaN</td>\n",
       "      <td>NaN</td>\n",
       "      <td>NaN</td>\n",
       "      <td>NaN</td>\n",
       "      <td>NaN</td>\n",
       "    </tr>\n",
       "    <tr>\n",
       "      <th>2</th>\n",
       "      <td>2</td>\n",
       "      <td>2021-04-11T01:00:00</td>\n",
       "      <td>asc126828</td>\n",
       "      <td>Desktop</td>\n",
       "      <td>America/Chicago</td>\n",
       "      <td>Linux</td>\n",
       "      <td>Chrome-85.04183133</td>\n",
       "      <td>div-gpt-ad-BT-D-InLine-1</td>\n",
       "      <td>300x250</td>\n",
       "      <td>undertone</td>\n",
       "      <td>0.9-1</td>\n",
       "      <td>display</td>\n",
       "      <td>1</td>\n",
       "      <td>1</td>\n",
       "      <td>NaN</td>\n",
       "      <td>NaN</td>\n",
       "      <td>0.9600</td>\n",
       "      <td>1523.0</td>\n",
       "      <td>NaN</td>\n",
       "      <td>0.96000</td>\n",
       "      <td>0.96000</td>\n",
       "      <td>0.9600</td>\n",
       "      <td>NaN</td>\n",
       "      <td>NaN</td>\n",
       "      <td>NaN</td>\n",
       "      <td>NaN</td>\n",
       "      <td>NaN</td>\n",
       "    </tr>\n",
       "  </tbody>\n",
       "</table>\n",
       "</div>"
      ],
      "text/plain": [
       "   Unnamed: 0            date_hour     client device_type        time_zone  \\\n",
       "0           0  2021-04-11T01:00:00  asc126828     Desktop  America/Chicago   \n",
       "1           1  2021-04-11T01:00:00  asc126828     Desktop  America/Chicago   \n",
       "2           2  2021-04-11T01:00:00  asc126828     Desktop  America/Chicago   \n",
       "\n",
       "  os_name        browser_name                   ad_unit     size     bidder  \\\n",
       "0   Linux  Chrome-85.04183133   div-gpt-ad-BT-D-Footers   728x90  onemobile   \n",
       "1   Linux  Chrome-85.04183133   div-gpt-ad-BT-D-Footers   728x90  rhythmone   \n",
       "2   Linux  Chrome-85.04183133  div-gpt-ad-BT-D-InLine-1  300x250  undertone   \n",
       "\n",
       "  bid_range media_type  request_count  response_count  prebid_win_count  \\\n",
       "0   0.5-0.6    display              4               4               1.0   \n",
       "1   0.3-0.4    display              3               3               NaN   \n",
       "2     0.9-1    display              1               1               NaN   \n",
       "\n",
       "   win_count  sum_bid  sum_time_to_respond  median  min_bid  max_bid  avg_bid  \\\n",
       "0        NaN   2.3408               6614.0     NaN  0.58520  0.58520   0.5852   \n",
       "1        NaN   1.0323               5171.0     NaN  0.33945  0.34875   0.3441   \n",
       "2        NaN   0.9600               1523.0     NaN  0.96000  0.96000   0.9600   \n",
       "\n",
       "   sum_2nd_highest_bid  sum_prebid_winning_bid  sum_winning_bid  sum_nobid  \\\n",
       "0               0.5852                  0.5852              NaN        NaN   \n",
       "1                  NaN                     NaN              NaN        NaN   \n",
       "2                  NaN                     NaN              NaN        NaN   \n",
       "\n",
       "   sum_timeout  \n",
       "0          NaN  \n",
       "1          NaN  \n",
       "2          NaN  "
      ]
     },
     "execution_count": 78,
     "metadata": {},
     "output_type": "execute_result"
    }
   ],
   "source": [
    "df.head(3)"
   ]
  },
  {
   "cell_type": "markdown",
   "id": "ff1a8eee",
   "metadata": {},
   "source": [
    "- Part1"
   ]
  },
  {
   "cell_type": "code",
   "execution_count": 79,
   "id": "878cba85",
   "metadata": {},
   "outputs": [
    {
     "data": {
      "application/vnd.microsoft.datawrangler.viewer.v0+json": {
       "columns": [
        {
         "name": "index",
         "rawType": "object",
         "type": "string"
        },
        {
         "name": "0",
         "rawType": "float64",
         "type": "float"
        }
       ],
       "ref": "7dd68fb8-ac97-4eb4-89c3-601e7d283356",
       "rows": [
        [
         "browser_name",
         "0.0"
        ],
        [
         "size",
         "0.0"
        ],
        [
         "bidder",
         "0.0"
        ],
        [
         "bid_range",
         "0.0"
        ],
        [
         "request_count",
         "0.0"
        ],
        [
         "response_count",
         "0.0"
        ],
        [
         "prebid_win_count",
         "76.66"
        ],
        [
         "win_count",
         "96.28"
        ],
        [
         "sum_time_to_respond",
         "24.2"
        ],
        [
         "avg_bid",
         "24.2"
        ]
       ],
       "shape": {
        "columns": 1,
        "rows": 10
       }
      },
      "text/plain": [
       "browser_name            0.00\n",
       "size                    0.00\n",
       "bidder                  0.00\n",
       "bid_range               0.00\n",
       "request_count           0.00\n",
       "response_count          0.00\n",
       "prebid_win_count       76.66\n",
       "win_count              96.28\n",
       "sum_time_to_respond    24.20\n",
       "avg_bid                24.20\n",
       "dtype: float64"
      ]
     },
     "execution_count": 79,
     "metadata": {},
     "output_type": "execute_result"
    }
   ],
   "source": [
    "(df[['browser_name',\n",
    "'size',\n",
    "'bidder',\n",
    "'bid_range',\n",
    "'request_count',\n",
    "'response_count',\n",
    "'prebid_win_count',\n",
    "'win_count',\n",
    "'sum_time_to_respond',\n",
    "'avg_bid']].isnull().sum()/df.shape[0])*100"
   ]
  },
  {
   "cell_type": "code",
   "execution_count": 83,
   "id": "637fd81b",
   "metadata": {},
   "outputs": [
    {
     "data": {
      "application/vnd.microsoft.datawrangler.viewer.v0+json": {
       "columns": [
        {
         "name": "target",
         "rawType": "float64",
         "type": "float"
        },
        {
         "name": "count",
         "rawType": "int64",
         "type": "integer"
        }
       ],
       "ref": "a3a30d58-1d49-427c-84e0-c58c560dc423",
       "rows": [
        [
         "0.0",
         "4814"
        ],
        [
         "1.0",
         "186"
        ]
       ],
       "shape": {
        "columns": 1,
        "rows": 2
       }
      },
      "text/plain": [
       "target\n",
       "0.0    4814\n",
       "1.0     186\n",
       "Name: count, dtype: int64"
      ]
     },
     "execution_count": 83,
     "metadata": {},
     "output_type": "execute_result"
    }
   ],
   "source": [
    "null_win = df[df['win_count'].isnull()].index\n",
    "df.loc[null_win,'target'] = 0\n",
    "target1_index = df[df['target'] !=0].index\n",
    "df.loc[target1_index,'target'] = 1\n",
    "df['target'].value_counts()"
   ]
  },
  {
   "cell_type": "code",
   "execution_count": null,
   "id": "78322b9b",
   "metadata": {},
   "outputs": [
    {
     "data": {
      "application/vnd.microsoft.datawrangler.viewer.v0+json": {
       "columns": [
        {
         "name": "browser_name",
         "rawType": "object",
         "type": "string"
        },
        {
         "name": "count",
         "rawType": "int64",
         "type": "integer"
        }
       ],
       "ref": "a513388e-7eb6-4490-8538-3ebcf24795d1",
       "rows": [
        [
         "Chrome-89.04389114",
         "2741"
        ],
        [
         "Chrome-89.043899",
         "596"
        ],
        [
         "Chrome-86.04240198",
         "223"
        ],
        [
         "Safari-14.03",
         "201"
        ],
        [
         "Chrome-88.04324208",
         "114"
        ],
        [
         "Chrome-61.0316379",
         "112"
        ],
        [
         "Firefox-78",
         "105"
        ],
        [
         "Chrome-83.04103106",
         "103"
        ],
        [
         "Firefox-87",
         "101"
        ],
        [
         "Chrome-88.04324192",
         "86"
        ],
        [
         "Chrome-84.04147127",
         "84"
        ],
        [
         "Chrome-89.04389116",
         "61"
        ],
        [
         "Chrome-85.04183133",
         "58"
        ],
        [
         "Chrome-87.04280142",
         "50"
        ],
        [
         "Chrome-89.0438982",
         "48"
        ],
        [
         "Safari-14.02",
         "34"
        ],
        [
         "Chrome-84.04147136",
         "28"
        ],
        [
         "Chrome-89.0438995",
         "26"
        ],
        [
         "Chrome-88.0432419",
         "24"
        ],
        [
         "Chrome-70.03538102",
         "20"
        ],
        [
         "Chrome-59.0307186",
         "16"
        ],
        [
         "Chrome-87.04280141",
         "12"
        ],
        [
         "Mozilla-5",
         "12"
        ],
        [
         "Firefox-86",
         "12"
        ],
        [
         "Chrome-71.0357898",
         "10"
        ],
        [
         "BlackBerry-1.1",
         "9"
        ],
        [
         "Chrome-88.0432415",
         "9"
        ],
        [
         "Chrome-91.04463",
         "9"
        ],
        [
         "Chrome-92.04473",
         "9"
        ],
        [
         "Chrome-88.04324182",
         "8"
        ],
        [
         "Chrome-89.04389112",
         "8"
        ],
        [
         "Safari-13.12",
         "7"
        ],
        [
         "Firefox-85",
         "7"
        ],
        [
         "Chrome-89.0438972",
         "7"
        ],
        [
         "Chrome-87.0428088",
         "6"
        ],
        [
         "Firefox-64",
         "6"
        ],
        [
         "Chrome-53.02785143",
         "6"
        ],
        [
         "Chrome-66.03359139",
         "5"
        ],
        [
         "Safari-8.02",
         "5"
        ],
        [
         "Chrome-79.0394513",
         "5"
        ],
        [
         "Chrome-86.04240199",
         "4"
        ],
        [
         "Chrome-81.04044268",
         "4"
        ],
        [
         "Chrome-51.0270463",
         "3"
        ],
        [
         "Safari-12.12",
         "2"
        ],
        [
         "Safari-13.11",
         "2"
        ],
        [
         "Chrome-89.04389122",
         "1"
        ],
        [
         "Chrome-49.02623112",
         "1"
        ]
       ],
       "shape": {
        "columns": 1,
        "rows": 47
       }
      },
      "text/plain": [
       "browser_name\n",
       "Chrome-89.04389114    2741\n",
       "Chrome-89.043899       596\n",
       "Chrome-86.04240198     223\n",
       "Safari-14.03           201\n",
       "Chrome-88.04324208     114\n",
       "Chrome-61.0316379      112\n",
       "Firefox-78             105\n",
       "Chrome-83.04103106     103\n",
       "Firefox-87             101\n",
       "Chrome-88.04324192      86\n",
       "Chrome-84.04147127      84\n",
       "Chrome-89.04389116      61\n",
       "Chrome-85.04183133      58\n",
       "Chrome-87.04280142      50\n",
       "Chrome-89.0438982       48\n",
       "Safari-14.02            34\n",
       "Chrome-84.04147136      28\n",
       "Chrome-89.0438995       26\n",
       "Chrome-88.0432419       24\n",
       "Chrome-70.03538102      20\n",
       "Chrome-59.0307186       16\n",
       "Chrome-87.04280141      12\n",
       "Mozilla-5               12\n",
       "Firefox-86              12\n",
       "Chrome-71.0357898       10\n",
       "BlackBerry-1.1           9\n",
       "Chrome-88.0432415        9\n",
       "Chrome-91.04463          9\n",
       "Chrome-92.04473          9\n",
       "Chrome-88.04324182       8\n",
       "Chrome-89.04389112       8\n",
       "Safari-13.12             7\n",
       "Firefox-85               7\n",
       "Chrome-89.0438972        7\n",
       "Chrome-87.0428088        6\n",
       "Firefox-64               6\n",
       "Chrome-53.02785143       6\n",
       "Chrome-66.03359139       5\n",
       "Safari-8.02              5\n",
       "Chrome-79.0394513        5\n",
       "Chrome-86.04240199       4\n",
       "Chrome-81.04044268       4\n",
       "Chrome-51.0270463        3\n",
       "Safari-12.12             2\n",
       "Safari-13.11             2\n",
       "Chrome-89.04389122       1\n",
       "Chrome-49.02623112       1\n",
       "Name: count, dtype: int64"
      ]
     },
     "execution_count": 63,
     "metadata": {},
     "output_type": "execute_result"
    }
   ],
   "source": [
    "## check what all category we have in browser\n",
    "df['browser_name'].value_counts()"
   ]
  },
  {
   "cell_type": "code",
   "execution_count": 85,
   "id": "7bd5b6ed",
   "metadata": {},
   "outputs": [
    {
     "data": {
      "application/vnd.microsoft.datawrangler.viewer.v0+json": {
       "columns": [
        {
         "name": "index",
         "rawType": "object",
         "type": "string"
        },
        {
         "name": "0",
         "rawType": "int64",
         "type": "integer"
        }
       ],
       "ref": "053fde43-1434-4836-a1dd-d2ad2bea9f6b",
       "rows": [
        [
         "sum_bid",
         "1210"
        ],
        [
         "median",
         "3240"
        ],
        [
         "min_bid",
         "1210"
        ],
        [
         "max_bid",
         "1210"
        ],
        [
         "avg_bid",
         "1210"
        ]
       ],
       "shape": {
        "columns": 1,
        "rows": 5
       }
      },
      "text/plain": [
       "sum_bid    1210\n",
       "median     3240\n",
       "min_bid    1210\n",
       "max_bid    1210\n",
       "avg_bid    1210\n",
       "dtype: int64"
      ]
     },
     "execution_count": 85,
     "metadata": {},
     "output_type": "execute_result"
    }
   ],
   "source": [
    "## for bid amount not all satatistics are importand, we can choose anyone\n",
    "df[['sum_bid','median','min_bid','max_bid','avg_bid']].isnull().sum()"
   ]
  },
  {
   "cell_type": "markdown",
   "id": "81443229",
   "metadata": {},
   "source": [
    "## part1\n",
    "- target : \n",
    "    - if win_count_present : 1\n",
    "    - if win_count is null : 0\n",
    "\n",
    "- x features : \n",
    "- 'bidder' : some kind of bidder might after getting the chance can not choose to bid\n",
    "- 'browser_name' : safari users are generally mac use, more chance to reach to people seeing ad and buying.\n",
    "- 'size' :  bigger add size, less chance of selected for bidding , small size will also go for less chance of selction, moderate size might win\n",
    "- 'bid_range' : lower bid range more chance of going for bidding\n",
    "- 'response_count'/ 'request_count' : high chances of winning\n",
    "- 'prebid_win_count' : more prebid win count, help bidder to take better decision wether to go for bid or not.\n",
    "- 'sum_time_to_respond' : if response time will be too high there is less chance for bidder getting uninterested.\n",
    "- 'avg_bid' : high bid price might not get responce."
   ]
  },
  {
   "cell_type": "markdown",
   "id": "32a15f2f",
   "metadata": {},
   "source": [
    "## part2\n",
    "- bid_amount: Coefficient = 0.8 : highly positive corelation: high bid amount has more chances of winning\n",
    "- time_to_bid: Coefficient = -0.4 : negative coorelation: more time to bid less chance of winning\n",
    "- ad_unit_A: Coefficient = 0.3 (reference category: ad_unit_B) : ad_unit_A is positively related with winning but\n",
    "- it is less strongly related to wiining if we compare with ad_unit_B"
   ]
  }
 ],
 "metadata": {
  "kernelspec": {
   "display_name": "Python 3",
   "language": "python",
   "name": "python3"
  },
  "language_info": {
   "codemirror_mode": {
    "name": "ipython",
    "version": 3
   },
   "file_extension": ".py",
   "mimetype": "text/x-python",
   "name": "python",
   "nbconvert_exporter": "python",
   "pygments_lexer": "ipython3",
   "version": "3.10.11"
  }
 },
 "nbformat": 4,
 "nbformat_minor": 5
}
