{
 "cells": [
  {
   "cell_type": "code",
   "execution_count": 1,
   "id": "e86600b3",
   "metadata": {},
   "outputs": [],
   "source": [
    "\n",
    "def trial_func(n):\n",
    "  num = 1\n",
    "  matrix = [[0]*n for _ in range(n)]\n",
    "  top,bottom = 0, n-1\n",
    "  left, right = 0, n-1\n",
    "\n",
    "  while top <= bottom and left <= right:\n",
    "    for j in range(left, right+1):\n",
    "      matrix[top][j] = num;num += 1\n",
    "    top += 1\n",
    "    for i in range(top, bottom+1):\n",
    "      matrix[i][right] = num;num+=1\n",
    "    right -= 1\n",
    "\n",
    "    if top <= bottom:\n",
    "      for j in range(right,left-1,-1):\n",
    "        # print(j)\n",
    "        matrix[bottom][j] = num;num += 1\n",
    "      bottom -= 1\n",
    "\n",
    "    if left <= right:\n",
    "      for i in range(bottom,top-1,-1):\n",
    "        matrix[i][left] = num;num+=1\n",
    "      left += 1\n",
    "  return matrix\n",
    "  "
   ]
  },
  {
   "cell_type": "code",
   "execution_count": 2,
   "id": "a0375554",
   "metadata": {},
   "outputs": [
    {
     "name": "stdout",
     "output_type": "stream",
     "text": [
      "[1, 2, 3, 4]\n",
      "[12, 13, 14, 5]\n",
      "[11, 16, 15, 6]\n",
      "[10, 9, 8, 7]\n"
     ]
    }
   ],
   "source": [
    "for row in trial_func(4):\n",
    "  print(row)"
   ]
  },
  {
   "cell_type": "code",
   "execution_count": 3,
   "id": "2f114802",
   "metadata": {},
   "outputs": [
    {
     "data": {
      "text/plain": [
       "[[1, 2, 3, 4, 5],\n",
       " [16, 17, 18, 19, 6],\n",
       " [15, 24, 25, 20, 7],\n",
       " [14, 23, 22, 21, 8],\n",
       " [13, 12, 11, 10, 9]]"
      ]
     },
     "execution_count": 3,
     "metadata": {},
     "output_type": "execute_result"
    }
   ],
   "source": [
    "trial_func(5)\n"
   ]
  },
  {
   "cell_type": "code",
   "execution_count": 4,
   "id": "28031adc",
   "metadata": {},
   "outputs": [
    {
     "name": "stdout",
     "output_type": "stream",
     "text": [
      "[1, 2, 3]\n",
      "[8, 9, 4]\n",
      "[7, 6, 5]\n"
     ]
    }
   ],
   "source": [
    "for row in trial_func(3):\n",
    "  print(row)"
   ]
  },
  {
   "cell_type": "code",
   "execution_count": null,
   "id": "ec1d2c58",
   "metadata": {},
   "outputs": [],
   "source": []
  }
 ],
 "metadata": {
  "kernelspec": {
   "display_name": "Python 3",
   "language": "python",
   "name": "python3"
  },
  "language_info": {
   "codemirror_mode": {
    "name": "ipython",
    "version": 3
   },
   "file_extension": ".py",
   "mimetype": "text/x-python",
   "name": "python",
   "nbconvert_exporter": "python",
   "pygments_lexer": "ipython3",
   "version": "3.10.11"
  }
 },
 "nbformat": 4,
 "nbformat_minor": 5
}
